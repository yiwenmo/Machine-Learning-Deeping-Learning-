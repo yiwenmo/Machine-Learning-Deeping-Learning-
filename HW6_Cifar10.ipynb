{
 "cells": [
  {
   "cell_type": "markdown",
   "metadata": {
    "id": "p69bxcoQzfjD"
   },
   "source": [
    "### import dependencies  \n",
    "We provided the packages we had used, you can import your prefered package but be aware of version conflict."
   ]
  },
  {
   "cell_type": "code",
   "execution_count": 1,
   "metadata": {
    "id": "urPZOhcpzXPq"
   },
   "outputs": [],
   "source": [
    "#import dependencies\n",
    "import tensorflow as tf\n",
    "from tensorflow.keras.models import Sequential\n",
    "from tensorflow.keras.utils import to_categorical\n",
    "from tensorflow.keras.preprocessing.image import ImageDataGenerator\n",
    "from tensorflow.keras.layers import Dense, Activation, Flatten, Dropout, BatchNormalization\n",
    "from tensorflow.keras.layers import Conv2D, MaxPooling2D\n",
    "from tensorflow.keras.datasets import cifar10\n",
    "from tensorflow.keras import regularizers, optimizers\n",
    "import numpy as np\n",
    "from matplotlib import pyplot"
   ]
  },
  {
   "cell_type": "markdown",
   "metadata": {
    "id": "AiaqA1G96Aaw"
   },
   "source": [
    "check weither your code run with GPUs or not"
   ]
  },
  {
   "cell_type": "code",
   "execution_count": null,
   "metadata": {
    "id": "SI_eHEmM0Whp"
   },
   "outputs": [],
   "source": [
    "tf.config.list_physical_devices('GPU')"
   ]
  },
  {
   "cell_type": "markdown",
   "metadata": {
    "id": "SysMjqWp6hu6"
   },
   "source": [
    "mount your colab to your Google Drive that you can download your file to solid space rather than temporary space"
   ]
  },
  {
   "cell_type": "code",
   "execution_count": null,
   "metadata": {
    "id": "uYIBIHZ-6eDq"
   },
   "outputs": [],
   "source": [
    "from google.colab import drive\n",
    "drive.mount('/content/gdrive')"
   ]
  },
  {
   "cell_type": "markdown",
   "metadata": {
    "id": "oeWw8xUg6_I4"
   },
   "source": [
    "```cd``` stands for change directory, common bash command that you should learn"
   ]
  },
  {
   "cell_type": "code",
   "execution_count": null,
   "metadata": {
    "id": "iNY_UYDd62Mp"
   },
   "outputs": [],
   "source": [
    "cd gdrive/MyDrive/# TODO"
   ]
  },
  {
   "cell_type": "markdown",
   "metadata": {
    "id": "MfgWvvuoAkkJ"
   },
   "source": [
    "You can download ```\n",
    "Prob2_epoch_100.h5``` and ```\n",
    "training.csv``` through below code, or just download from NTU COOL."
   ]
  },
  {
   "cell_type": "code",
   "execution_count": 2,
   "metadata": {
    "colab": {
     "base_uri": "https://localhost:8080/"
    },
    "id": "5vEu8x1iBYD4",
    "outputId": "690ac6e4-1b05-47e1-bebc-dcecb5f458c0"
   },
   "outputs": [
    {
     "name": "stdout",
     "output_type": "stream",
     "text": [
      "Downloading...\n",
      "From: https://drive.google.com/uc?id=10rpyNdrJIBQUHqH8ftLhkzOZiQwuGrGU\n",
      "To: /content/epoch_100.h5\n",
      "100% 3.84M/3.84M [00:00<00:00, 122MB/s]\n",
      "Downloading...\n",
      "From: https://drive.google.com/uc?id=101Q5ayiYEoKiSxpZ-M7ZMdhhmW-hLanG\n",
      "To: /content/training.csv\n",
      "100% 8.01k/8.01k [00:00<00:00, 15.3MB/s]\n"
     ]
    }
   ],
   "source": [
    "!gdown --id '10rpyNdrJIBQUHqH8ftLhkzOZiQwuGrGU' --output Prob2_epoch_100.h5\n",
    "!gdown --id '101Q5ayiYEoKiSxpZ-M7ZMdhhmW-hLanG' --output training.csv"
   ]
  },
  {
   "cell_type": "markdown",
   "metadata": {
    "id": "N5wD0M-W732X"
   },
   "source": [
    "### Data preprocessing"
   ]
  },
  {
   "cell_type": "code",
   "execution_count": 2,
   "metadata": {
    "id": "Hc5t_WoX7vor"
   },
   "outputs": [
    {
     "name": "stdout",
     "output_type": "stream",
     "text": [
      "training data =  (50000, 32, 32, 3)\n",
      "testing data =  (10000, 32, 32, 3)\n"
     ]
    }
   ],
   "source": [
    "# download and split the data\n",
    "(x_train, y_train), (x_test, y_test) = cifar10.load_data()\n",
    "x_train = x_train.astype('float32')\n",
    "x_test = x_test.astype('float32')\n",
    "\n",
    "print(\"training data = \", x_train.shape)\n",
    "print(\"testing data = \", x_test.shape)\n",
    "\n",
    "# standarize your data\n",
    "mean = np.mean(x_train)\n",
    "std = np.std(x_train)\n",
    "x_train = (x_train-mean)/(std+1e-7)\n",
    "x_test = (x_test-mean)/(std+1e-7)\n",
    "\n",
    "# encoding your label\n",
    "num_classes = 10\n",
    "y_train = to_categorical(y_train,num_classes)\n",
    "y_test = to_categorical(y_test,num_classes)\n",
    "\n",
    "# data augmentation\n",
    "datagen = ImageDataGenerator(\n",
    "    featurewise_center=False,\n",
    "    samplewise_center=False,\n",
    "    featurewise_std_normalization=False,\n",
    "    samplewise_std_normalization=False,\n",
    "    zca_whitening=False,\n",
    "    rotation_range=15,\n",
    "    width_shift_range=0.1,\n",
    "    height_shift_range=0.1,\n",
    "    horizontal_flip=True,\n",
    "    vertical_flip=False\n",
    "    )\n",
    "\n",
    "# apply the data augmentation on the training set\n",
    "datagen.fit(x_train)"
   ]
  },
  {
   "cell_type": "markdown",
   "metadata": {
    "id": "9PvdRJZG8zp7"
   },
   "source": [
    "### Resuming training  \n",
    "As problem description said, there're lots of reason can cause your training accidently be interupted. You should learn how to reload TA's model and continue training. You should also learn how to save your model when training.\n",
    "\n"
   ]
  },
  {
   "cell_type": "code",
   "execution_count": 3,
   "metadata": {
    "id": "ImQ4MRhV-ESe"
   },
   "outputs": [
    {
     "name": "stdout",
     "output_type": "stream",
     "text": [
      "Epoch 1/100\n",
      "390/390 [==============================] - 23s 34ms/step - loss: 0.4317 - accuracy: 0.8814 - val_loss: 0.5025 - val_accuracy: 0.8749\n",
      "Epoch 2/100\n",
      "390/390 [==============================] - 12s 31ms/step - loss: 0.4271 - accuracy: 0.8835 - val_loss: 0.4837 - val_accuracy: 0.8734\n",
      "Epoch 3/100\n",
      "390/390 [==============================] - 13s 32ms/step - loss: 0.4333 - accuracy: 0.8816 - val_loss: 0.5140 - val_accuracy: 0.8713\n",
      "Epoch 4/100\n",
      "390/390 [==============================] - 13s 33ms/step - loss: 0.4300 - accuracy: 0.8824 - val_loss: 0.4744 - val_accuracy: 0.8786\n",
      "Epoch 5/100\n",
      "390/390 [==============================] - 13s 33ms/step - loss: 0.4299 - accuracy: 0.8836 - val_loss: 0.5126 - val_accuracy: 0.8690\n",
      "Epoch 6/100\n",
      "390/390 [==============================] - 13s 33ms/step - loss: 0.4327 - accuracy: 0.8829 - val_loss: 0.4846 - val_accuracy: 0.8755\n",
      "Epoch 7/100\n",
      "390/390 [==============================] - 13s 33ms/step - loss: 0.4317 - accuracy: 0.8836 - val_loss: 0.4792 - val_accuracy: 0.8768\n",
      "Epoch 8/100\n",
      "390/390 [==============================] - 12s 32ms/step - loss: 0.4266 - accuracy: 0.8838 - val_loss: 0.4795 - val_accuracy: 0.8772\n",
      "Epoch 9/100\n",
      "390/390 [==============================] - 12s 32ms/step - loss: 0.4248 - accuracy: 0.8843 - val_loss: 0.4833 - val_accuracy: 0.8746\n",
      "Epoch 10/100\n",
      "390/390 [==============================] - 12s 32ms/step - loss: 0.4276 - accuracy: 0.8860 - val_loss: 0.5049 - val_accuracy: 0.8719\n",
      "Epoch 11/100\n",
      "390/390 [==============================] - 12s 32ms/step - loss: 0.4265 - accuracy: 0.8834 - val_loss: 0.5035 - val_accuracy: 0.8693\n",
      "Epoch 12/100\n",
      "390/390 [==============================] - 13s 32ms/step - loss: 0.4266 - accuracy: 0.8835 - val_loss: 0.4947 - val_accuracy: 0.8744\n",
      "Epoch 13/100\n",
      "390/390 [==============================] - 12s 32ms/step - loss: 0.4261 - accuracy: 0.8834 - val_loss: 0.4565 - val_accuracy: 0.8864\n",
      "Epoch 14/100\n",
      "390/390 [==============================] - 12s 32ms/step - loss: 0.4248 - accuracy: 0.8869 - val_loss: 0.4923 - val_accuracy: 0.8749\n",
      "Epoch 15/100\n",
      "390/390 [==============================] - 13s 33ms/step - loss: 0.4235 - accuracy: 0.8845 - val_loss: 0.4612 - val_accuracy: 0.8830\n",
      "Epoch 16/100\n",
      "390/390 [==============================] - 13s 32ms/step - loss: 0.4254 - accuracy: 0.8855 - val_loss: 0.4868 - val_accuracy: 0.8774\n",
      "Epoch 17/100\n",
      "390/390 [==============================] - 12s 32ms/step - loss: 0.4224 - accuracy: 0.8878 - val_loss: 0.5080 - val_accuracy: 0.8698\n",
      "Epoch 18/100\n",
      "390/390 [==============================] - 12s 32ms/step - loss: 0.4186 - accuracy: 0.8877 - val_loss: 0.5007 - val_accuracy: 0.8736\n",
      "Epoch 19/100\n",
      "390/390 [==============================] - 12s 32ms/step - loss: 0.4239 - accuracy: 0.8854 - val_loss: 0.4726 - val_accuracy: 0.8773\n",
      "Epoch 20/100\n",
      "390/390 [==============================] - 13s 33ms/step - loss: 0.4202 - accuracy: 0.8888 - val_loss: 0.4763 - val_accuracy: 0.8779\n",
      "Epoch 21/100\n",
      "390/390 [==============================] - 13s 32ms/step - loss: 0.4177 - accuracy: 0.8882 - val_loss: 0.4849 - val_accuracy: 0.8776\n",
      "Epoch 22/100\n",
      "390/390 [==============================] - 12s 32ms/step - loss: 0.4259 - accuracy: 0.8839 - val_loss: 0.4808 - val_accuracy: 0.8772\n",
      "Epoch 23/100\n",
      "390/390 [==============================] - 13s 32ms/step - loss: 0.4182 - accuracy: 0.8885 - val_loss: 0.5268 - val_accuracy: 0.8680\n",
      "Epoch 24/100\n",
      "390/390 [==============================] - 13s 32ms/step - loss: 0.4194 - accuracy: 0.8879 - val_loss: 0.4449 - val_accuracy: 0.8881\n",
      "Epoch 25/100\n",
      "390/390 [==============================] - 13s 32ms/step - loss: 0.4196 - accuracy: 0.8859 - val_loss: 0.4865 - val_accuracy: 0.8768\n",
      "Epoch 26/100\n",
      "390/390 [==============================] - 12s 32ms/step - loss: 0.4189 - accuracy: 0.8881 - val_loss: 0.4805 - val_accuracy: 0.8776\n",
      "Epoch 27/100\n",
      "390/390 [==============================] - 12s 32ms/step - loss: 0.4161 - accuracy: 0.8884 - val_loss: 0.4601 - val_accuracy: 0.8804\n",
      "Epoch 28/100\n",
      "390/390 [==============================] - 13s 33ms/step - loss: 0.4180 - accuracy: 0.8876 - val_loss: 0.4580 - val_accuracy: 0.8865\n",
      "Epoch 29/100\n",
      "390/390 [==============================] - 12s 31ms/step - loss: 0.4210 - accuracy: 0.8879 - val_loss: 0.4961 - val_accuracy: 0.8745\n",
      "Epoch 30/100\n",
      "390/390 [==============================] - 13s 32ms/step - loss: 0.4160 - accuracy: 0.8885 - val_loss: 0.4623 - val_accuracy: 0.8828\n",
      "Epoch 31/100\n",
      "390/390 [==============================] - 12s 32ms/step - loss: 0.4124 - accuracy: 0.8901 - val_loss: 0.4836 - val_accuracy: 0.8725\n",
      "Epoch 32/100\n",
      "390/390 [==============================] - 12s 32ms/step - loss: 0.4135 - accuracy: 0.8896 - val_loss: 0.5149 - val_accuracy: 0.8719\n",
      "Epoch 33/100\n",
      "390/390 [==============================] - 12s 32ms/step - loss: 0.4182 - accuracy: 0.8882 - val_loss: 0.4927 - val_accuracy: 0.8772\n",
      "Epoch 34/100\n",
      "390/390 [==============================] - 13s 32ms/step - loss: 0.4176 - accuracy: 0.8881 - val_loss: 0.4825 - val_accuracy: 0.8766\n",
      "Epoch 35/100\n",
      "390/390 [==============================] - 12s 31ms/step - loss: 0.4158 - accuracy: 0.8891 - val_loss: 0.4984 - val_accuracy: 0.8729\n",
      "Epoch 36/100\n",
      "390/390 [==============================] - 13s 32ms/step - loss: 0.4146 - accuracy: 0.8901 - val_loss: 0.4553 - val_accuracy: 0.8864\n",
      "Epoch 37/100\n",
      "390/390 [==============================] - 12s 32ms/step - loss: 0.4129 - accuracy: 0.8896 - val_loss: 0.5050 - val_accuracy: 0.8723\n",
      "Epoch 38/100\n",
      "390/390 [==============================] - 12s 31ms/step - loss: 0.4138 - accuracy: 0.8903 - val_loss: 0.4875 - val_accuracy: 0.8792\n",
      "Epoch 39/100\n",
      "390/390 [==============================] - 13s 33ms/step - loss: 0.4186 - accuracy: 0.8893 - val_loss: 0.4863 - val_accuracy: 0.8815\n",
      "Epoch 40/100\n",
      "390/390 [==============================] - 12s 31ms/step - loss: 0.4128 - accuracy: 0.8892 - val_loss: 0.5162 - val_accuracy: 0.8696\n",
      "Epoch 41/100\n",
      "390/390 [==============================] - 12s 32ms/step - loss: 0.4131 - accuracy: 0.8910 - val_loss: 0.4879 - val_accuracy: 0.8781\n",
      "Epoch 42/100\n",
      "390/390 [==============================] - 12s 32ms/step - loss: 0.4112 - accuracy: 0.8902 - val_loss: 0.4814 - val_accuracy: 0.8799\n",
      "Epoch 43/100\n",
      "390/390 [==============================] - 12s 32ms/step - loss: 0.4131 - accuracy: 0.8903 - val_loss: 0.4520 - val_accuracy: 0.8889\n",
      "Epoch 44/100\n",
      "390/390 [==============================] - 13s 33ms/step - loss: 0.4168 - accuracy: 0.8888 - val_loss: 0.4877 - val_accuracy: 0.8776\n",
      "Epoch 45/100\n",
      "390/390 [==============================] - 12s 31ms/step - loss: 0.4058 - accuracy: 0.8916 - val_loss: 0.4665 - val_accuracy: 0.8824\n",
      "Epoch 46/100\n",
      "390/390 [==============================] - 12s 32ms/step - loss: 0.4113 - accuracy: 0.8895 - val_loss: 0.4656 - val_accuracy: 0.8853\n",
      "Epoch 47/100\n",
      "390/390 [==============================] - 12s 32ms/step - loss: 0.4054 - accuracy: 0.8934 - val_loss: 0.4722 - val_accuracy: 0.8841\n",
      "Epoch 48/100\n",
      "390/390 [==============================] - 12s 32ms/step - loss: 0.4109 - accuracy: 0.8893 - val_loss: 0.4863 - val_accuracy: 0.8805\n",
      "Epoch 49/100\n",
      "390/390 [==============================] - 12s 32ms/step - loss: 0.4069 - accuracy: 0.8917 - val_loss: 0.4798 - val_accuracy: 0.8783\n",
      "Epoch 50/100\n",
      "390/390 [==============================] - 12s 31ms/step - loss: 0.4037 - accuracy: 0.8935 - val_loss: 0.4562 - val_accuracy: 0.8888\n",
      "Epoch 51/100\n",
      "390/390 [==============================] - 12s 32ms/step - loss: 0.4075 - accuracy: 0.8914 - val_loss: 0.4707 - val_accuracy: 0.8859\n",
      "Epoch 52/100\n",
      "390/390 [==============================] - 13s 32ms/step - loss: 0.4039 - accuracy: 0.8934 - val_loss: 0.4850 - val_accuracy: 0.8783\n",
      "Epoch 53/100\n",
      "390/390 [==============================] - 12s 32ms/step - loss: 0.4090 - accuracy: 0.8908 - val_loss: 0.4903 - val_accuracy: 0.8773\n",
      "Epoch 54/100\n",
      "390/390 [==============================] - 12s 32ms/step - loss: 0.4103 - accuracy: 0.8916 - val_loss: 0.4662 - val_accuracy: 0.8832\n",
      "Epoch 55/100\n",
      "390/390 [==============================] - 13s 32ms/step - loss: 0.4055 - accuracy: 0.8924 - val_loss: 0.4890 - val_accuracy: 0.8792\n",
      "Epoch 56/100\n",
      "390/390 [==============================] - 12s 32ms/step - loss: 0.4078 - accuracy: 0.8927 - val_loss: 0.4993 - val_accuracy: 0.8732\n",
      "Epoch 57/100\n",
      "390/390 [==============================] - 12s 32ms/step - loss: 0.4073 - accuracy: 0.8916 - val_loss: 0.4583 - val_accuracy: 0.8880\n",
      "Epoch 58/100\n",
      "390/390 [==============================] - 12s 31ms/step - loss: 0.4062 - accuracy: 0.8931 - val_loss: 0.4871 - val_accuracy: 0.8849\n",
      "Epoch 59/100\n",
      "390/390 [==============================] - 12s 32ms/step - loss: 0.4021 - accuracy: 0.8950 - val_loss: 0.4756 - val_accuracy: 0.8837\n",
      "Epoch 60/100\n",
      "390/390 [==============================] - 13s 32ms/step - loss: 0.4041 - accuracy: 0.8918 - val_loss: 0.4763 - val_accuracy: 0.8837\n",
      "Epoch 61/100\n",
      "390/390 [==============================] - 13s 33ms/step - loss: 0.4053 - accuracy: 0.8922 - val_loss: 0.4460 - val_accuracy: 0.8861\n",
      "Epoch 62/100\n",
      "390/390 [==============================] - 13s 33ms/step - loss: 0.3992 - accuracy: 0.8947 - val_loss: 0.4516 - val_accuracy: 0.8879\n",
      "Epoch 63/100\n",
      "390/390 [==============================] - 13s 33ms/step - loss: 0.4045 - accuracy: 0.8917 - val_loss: 0.4572 - val_accuracy: 0.8897\n",
      "Epoch 64/100\n",
      "390/390 [==============================] - 12s 32ms/step - loss: 0.4011 - accuracy: 0.8943 - val_loss: 0.4815 - val_accuracy: 0.8835\n",
      "Epoch 65/100\n",
      "390/390 [==============================] - 13s 32ms/step - loss: 0.4043 - accuracy: 0.8938 - val_loss: 0.4928 - val_accuracy: 0.8766\n",
      "Epoch 66/100\n",
      "390/390 [==============================] - 13s 32ms/step - loss: 0.4034 - accuracy: 0.8943 - val_loss: 0.4838 - val_accuracy: 0.8829\n",
      "Epoch 67/100\n",
      "390/390 [==============================] - 12s 32ms/step - loss: 0.4031 - accuracy: 0.8938 - val_loss: 0.5133 - val_accuracy: 0.8746\n",
      "Epoch 68/100\n",
      "390/390 [==============================] - 13s 33ms/step - loss: 0.4061 - accuracy: 0.8925 - val_loss: 0.4596 - val_accuracy: 0.8867\n",
      "Epoch 69/100\n",
      "390/390 [==============================] - 13s 32ms/step - loss: 0.4021 - accuracy: 0.8950 - val_loss: 0.4683 - val_accuracy: 0.8842\n",
      "Epoch 70/100\n",
      "390/390 [==============================] - 12s 32ms/step - loss: 0.3983 - accuracy: 0.8963 - val_loss: 0.4679 - val_accuracy: 0.8823\n",
      "Epoch 71/100\n",
      "390/390 [==============================] - 13s 33ms/step - loss: 0.4061 - accuracy: 0.8919 - val_loss: 0.4903 - val_accuracy: 0.8843\n",
      "Epoch 72/100\n",
      "390/390 [==============================] - 13s 32ms/step - loss: 0.3973 - accuracy: 0.8941 - val_loss: 0.4502 - val_accuracy: 0.8909\n",
      "Epoch 73/100\n",
      "390/390 [==============================] - 13s 33ms/step - loss: 0.4004 - accuracy: 0.8967 - val_loss: 0.4942 - val_accuracy: 0.8782\n",
      "Epoch 74/100\n",
      "390/390 [==============================] - 12s 32ms/step - loss: 0.4006 - accuracy: 0.8953 - val_loss: 0.4638 - val_accuracy: 0.8845\n",
      "Epoch 75/100\n",
      "390/390 [==============================] - 13s 32ms/step - loss: 0.3968 - accuracy: 0.8966 - val_loss: 0.4662 - val_accuracy: 0.8838\n",
      "Epoch 76/100\n",
      "390/390 [==============================] - 13s 33ms/step - loss: 0.3965 - accuracy: 0.8959 - val_loss: 0.4648 - val_accuracy: 0.8881\n",
      "Epoch 77/100\n",
      "390/390 [==============================] - 13s 32ms/step - loss: 0.4017 - accuracy: 0.8949 - val_loss: 0.4683 - val_accuracy: 0.8881\n",
      "Epoch 78/100\n",
      "390/390 [==============================] - 12s 32ms/step - loss: 0.4024 - accuracy: 0.8929 - val_loss: 0.5006 - val_accuracy: 0.8784\n",
      "Epoch 79/100\n",
      "390/390 [==============================] - 12s 32ms/step - loss: 0.4045 - accuracy: 0.8938 - val_loss: 0.5203 - val_accuracy: 0.8721\n",
      "Epoch 80/100\n",
      "390/390 [==============================] - 12s 32ms/step - loss: 0.3965 - accuracy: 0.8962 - val_loss: 0.4834 - val_accuracy: 0.8805\n",
      "Epoch 81/100\n",
      "390/390 [==============================] - 12s 32ms/step - loss: 0.3971 - accuracy: 0.8951 - val_loss: 0.4699 - val_accuracy: 0.8857\n",
      "Epoch 82/100\n",
      "390/390 [==============================] - 13s 32ms/step - loss: 0.3968 - accuracy: 0.8963 - val_loss: 0.4824 - val_accuracy: 0.8842\n",
      "Epoch 83/100\n",
      "390/390 [==============================] - 12s 32ms/step - loss: 0.3965 - accuracy: 0.8955 - val_loss: 0.4741 - val_accuracy: 0.8820\n",
      "Epoch 84/100\n",
      "390/390 [==============================] - 13s 33ms/step - loss: 0.3960 - accuracy: 0.8972 - val_loss: 0.4634 - val_accuracy: 0.8860\n",
      "Epoch 85/100\n",
      "390/390 [==============================] - 13s 32ms/step - loss: 0.3967 - accuracy: 0.8967 - val_loss: 0.4651 - val_accuracy: 0.8900\n",
      "Epoch 86/100\n",
      "390/390 [==============================] - 13s 32ms/step - loss: 0.3931 - accuracy: 0.8969 - val_loss: 0.4630 - val_accuracy: 0.8877\n",
      "Epoch 87/100\n",
      "390/390 [==============================] - 13s 33ms/step - loss: 0.3935 - accuracy: 0.8976 - val_loss: 0.4732 - val_accuracy: 0.8851\n",
      "Epoch 88/100\n",
      "390/390 [==============================] - 13s 32ms/step - loss: 0.3927 - accuracy: 0.8978 - val_loss: 0.4783 - val_accuracy: 0.8825\n",
      "Epoch 89/100\n",
      "390/390 [==============================] - 13s 33ms/step - loss: 0.3968 - accuracy: 0.8951 - val_loss: 0.4857 - val_accuracy: 0.8793\n",
      "Epoch 90/100\n",
      "390/390 [==============================] - 12s 32ms/step - loss: 0.3989 - accuracy: 0.8956 - val_loss: 0.4993 - val_accuracy: 0.8787\n",
      "Epoch 91/100\n",
      "390/390 [==============================] - 12s 32ms/step - loss: 0.3977 - accuracy: 0.8948 - val_loss: 0.4911 - val_accuracy: 0.8818\n",
      "Epoch 92/100\n",
      "390/390 [==============================] - 13s 33ms/step - loss: 0.3967 - accuracy: 0.8966 - val_loss: 0.4476 - val_accuracy: 0.8897\n",
      "Epoch 93/100\n",
      "390/390 [==============================] - 12s 32ms/step - loss: 0.3958 - accuracy: 0.8976 - val_loss: 0.4626 - val_accuracy: 0.8876\n",
      "Epoch 94/100\n",
      "390/390 [==============================] - 12s 32ms/step - loss: 0.3910 - accuracy: 0.8971 - val_loss: 0.4470 - val_accuracy: 0.8881\n",
      "Epoch 95/100\n",
      "390/390 [==============================] - 13s 32ms/step - loss: 0.3930 - accuracy: 0.8969 - val_loss: 0.4603 - val_accuracy: 0.8882\n",
      "Epoch 96/100\n",
      "390/390 [==============================] - 12s 32ms/step - loss: 0.3957 - accuracy: 0.8973 - val_loss: 0.4727 - val_accuracy: 0.8858\n",
      "Epoch 97/100\n",
      "390/390 [==============================] - 13s 33ms/step - loss: 0.3902 - accuracy: 0.8985 - val_loss: 0.4453 - val_accuracy: 0.8953\n",
      "Epoch 98/100\n",
      "390/390 [==============================] - 13s 33ms/step - loss: 0.3960 - accuracy: 0.8960 - val_loss: 0.4346 - val_accuracy: 0.8957\n",
      "Epoch 99/100\n",
      "390/390 [==============================] - 12s 32ms/step - loss: 0.3901 - accuracy: 0.8972 - val_loss: 0.5148 - val_accuracy: 0.8752\n",
      "Epoch 100/100\n",
      "390/390 [==============================] - 13s 33ms/step - loss: 0.3959 - accuracy: 0.8968 - val_loss: 0.4832 - val_accuracy: 0.8788\n"
     ]
    }
   ],
   "source": [
    "# load TA's model\n",
    "model = tf.keras.models.load_model('Prob2_epoch_100.h5') # TODO\n",
    "\n",
    "import os\n",
    "batch_size = 128\n",
    "epochs=100\n",
    "\n",
    "# some pacakge and code should be imported and executed here\n",
    "# TODO\n",
    "\n",
    "optimizer = tf.optimizers.Adam(learning_rate=0.0005,decay=1e-6)\n",
    "\n",
    "model.compile(loss='categorical_crossentropy', optimizer=optimizer, metrics=['accuracy'])\n",
    "\n",
    "# tensorflow execute model.fit to start training, below code can start training but can't save your model and learning log while training.\n",
    "# TODO (revision of below function)\n",
    "history = model.fit(datagen.flow(x_train, y_train, batch_size=batch_size), \n",
    "                    steps_per_epoch=x_train.shape[0] // batch_size, \n",
    "                    epochs=epochs, \n",
    "                    verbose=1, \n",
    "                    validation_data=(x_test,y_test))"
   ]
  },
  {
   "cell_type": "code",
   "execution_count": 38,
   "metadata": {},
   "outputs": [
    {
     "data": {
      "image/png": "[encoded data removed]",
      "text/plain": [
       "<Figure size 432x288 with 1 Axes>"
      ]
     },
     "metadata": {
      "needs_background": "light"
     },
     "output_type": "display_data"
    }
   ],
   "source": [
    "#%%plot the figure\n",
    "import matplotlib.pyplot as plt\n",
    "import pandas as pd\n",
    "import numpy as np\n",
    "\n",
    "#read data input 1-100 epochs\n",
    "train = pd.read_csv('training.csv',sep = \",\")\n",
    "\n",
    "#define the curve\n",
    "acc_1 = train['accuracy']\n",
    "val_acc_1 = train['val_accuracy']\n",
    "loss_1 = train['loss']\n",
    "val_loss_1 = train['val_loss']\n",
    "epochs = train['epoch']\n",
    "\n",
    "acc_2 = history.history['accuracy']\n",
    "val_acc_2 = history.history['val_accuracy']\n",
    "loss_2 = history.history['loss']\n",
    "val_loss_2 = history.history['val_loss']\n",
    "\n",
    "epochs_2 = range(100,200)\n",
    "\n",
    "plt.plot(epochs, loss_1, 'b', label='loss_1')\n",
    "plt.plot(epochs, val_loss_1, 'g', label='val_loss_1')\n",
    "plt.plot(epochs_2, loss_2, 'r', label='loss_2')\n",
    "plt.plot(epochs_2, val_loss_2, 'y', label='val_loss_2')\n",
    "plt.title('Training and validation loss')\n",
    "plt.xlabel('Epochs')\n",
    "plt.ylabel('Loss')\n",
    "plt.legend()\n",
    "plt.savefig('problem2_2_loss.png')\n",
    "plt.show()"
   ]
  },
  {
   "cell_type": "code",
   "execution_count": 39,
   "metadata": {},
   "outputs": [
    {
     "data": {
      "image/png": "[encoded data removed]",
      "text/plain": [
       "<Figure size 432x288 with 1 Axes>"
      ]
     },
     "metadata": {
      "needs_background": "light"
     },
     "output_type": "display_data"
    }
   ],
   "source": [
    "plt.plot(epochs, acc_1, 'b', label='acc_1')\n",
    "plt.plot(epochs, val_acc_1, 'g', label='val_acc_1')\n",
    "plt.plot(epochs_2, acc_2, 'r', label='acc_2')\n",
    "plt.plot(epochs_2, val_acc_2, 'y', label='val_acc_2')\n",
    "plt.title('Training and validation accuracy')\n",
    "plt.xlabel('Epochs')\n",
    "plt.ylabel('Accuracy')\n",
    "plt.legend()\n",
    "plt.savefig('problem2_2_acc.png')\n",
    "plt.show()"
   ]
  },
  {
   "cell_type": "code",
   "execution_count": null,
   "metadata": {},
   "outputs": [],
   "source": []
  }
 ],
 "metadata": {
  "colab": {
   "collapsed_sections": [],
   "name": "HW6_Cifar10.ipynb",
   "provenance": []
  },
  "kernelspec": {
   "display_name": "Python 3 (ipykernel)",
   "language": "python",
   "name": "python3"
  },
  "language_info": {
   "codemirror_mode": {
    "name": "ipython",
    "version": 3
   },
   "file_extension": ".py",
   "mimetype": "text/x-python",
   "name": "python",
   "nbconvert_exporter": "python",
   "pygments_lexer": "ipython3",
   "version": "3.8.8"
  }
 },
 "nbformat": 4,
 "nbformat_minor": 1
}
