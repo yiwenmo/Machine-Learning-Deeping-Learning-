{
  "nbformat": 4,
  "nbformat_minor": 0,
  "metadata": {
    "kernelspec": {
      "display_name": "Python 3",
      "language": "python",
      "name": "python3"
    },
    "language_info": {
      "codemirror_mode": {
        "name": "ipython",
        "version": 3
      },
      "file_extension": ".py",
      "mimetype": "text/x-python",
      "name": "python",
      "nbconvert_exporter": "python",
      "pygments_lexer": "ipython3",
      "version": "3.7.4"
    },
    "colab": {
      "provenance": []
    }
  },
  "cells": [
    {
      "cell_type": "markdown",
      "metadata": {
        "id": "NwomcMLJgn9s"
      },
      "source": [
        "## Boolean Learning Example\n",
        "\n",
        "Let us define the unknown target function, $f:\\mathcal{X} \\mapsto \\mathcal{Y}$. The training set\n",
        "is $\\left\\{(x,y)\\right\\}$ which means that we only see the function's\n",
        "inputs/outputs. The hypothesis set $\\mathcal{H}$ is the set of all\n",
        "possible guesses at $f$. This is the set from which we will ultimately\n",
        "draw our final estimate, $g$. **The machine learning problem is\n",
        "how to  derive the best element from the hypothesis set by using the\n",
        "training set.**\n",
        "\n",
        "Suppose $\\mathcal{X}$ consists of all four-bit vectors (i.e.,\n",
        "$\\mathcal{X}=\\left\\{0000,0001,\\ldots,1111\\right\\}$) as in the code below,"
      ]
    },
    {
      "cell_type": "code",
      "metadata": {
        "id": "otsPabmLgn9w"
      },
      "source": [
        "import pandas as pd\n",
        "import numpy as np\n",
        "from pandas import DataFrame\n",
        "df=DataFrame(index=pd.Index(['{0:04b}'.format(i) for i in range(2**4)],\n",
        "                            dtype='str',\n",
        "                            name='x'),columns=['f'])"
      ],
      "execution_count": null,
      "outputs": []
    },
    {
      "cell_type": "markdown",
      "metadata": {
        "id": "1z-L7Yu8gn9y"
      },
      "source": [
        "**Programming Tip.**\n",
        "\n",
        "The string specification above uses Python's advanced string\n",
        "formatting mini-language. In this case, the specification says to\n",
        "convert the integer into a fixed-width, four-character (`04b`) binary\n",
        "representation.\n",
        "\n",
        "\n",
        "\n",
        " Next, we define the target function $f$ below which just\n",
        "checks if the number of zeros in the binary representation exceeds the\n",
        "number of ones.  If so, then the function outputs `1` and `0`\n",
        "otherwise (i.e., $\\mathcal{Y}=\\left\\{0,1\\right\\}$)."
      ]
    },
    {
      "cell_type": "code",
      "metadata": {
        "id": "EXZvimHbgn9y",
        "colab": {
          "base_uri": "https://localhost:8080/",
          "height": 582
        },
        "outputId": "4bf7329b-273f-4c38-f7fb-746e0609524c"
      },
      "source": [
        "df.f=np.array(df.index.map(lambda i:i.count('0')) \n",
        "               > df.index.map(lambda i:i.count('1')),dtype=int)\n",
        "df # show all the input vectors and target values"
      ],
      "execution_count": null,
      "outputs": [
        {
          "output_type": "execute_result",
          "data": {
            "text/html": [
              "<div>\n",
              "<style scoped>\n",
              "    .dataframe tbody tr th:only-of-type {\n",
              "        vertical-align: middle;\n",
              "    }\n",
              "\n",
              "    .dataframe tbody tr th {\n",
              "        vertical-align: top;\n",
              "    }\n",
              "\n",
              "    .dataframe thead th {\n",
              "        text-align: right;\n",
              "    }\n",
              "</style>\n",
              "<table border=\"1\" class=\"dataframe\">\n",
              "  <thead>\n",
              "    <tr style=\"text-align: right;\">\n",
              "      <th></th>\n",
              "      <th>f</th>\n",
              "    </tr>\n",
              "    <tr>\n",
              "      <th>x</th>\n",
              "      <th></th>\n",
              "    </tr>\n",
              "  </thead>\n",
              "  <tbody>\n",
              "    <tr>\n",
              "      <th>0000</th>\n",
              "      <td>1</td>\n",
              "    </tr>\n",
              "    <tr>\n",
              "      <th>0001</th>\n",
              "      <td>1</td>\n",
              "    </tr>\n",
              "    <tr>\n",
              "      <th>0010</th>\n",
              "      <td>1</td>\n",
              "    </tr>\n",
              "    <tr>\n",
              "      <th>0011</th>\n",
              "      <td>0</td>\n",
              "    </tr>\n",
              "    <tr>\n",
              "      <th>0100</th>\n",
              "      <td>1</td>\n",
              "    </tr>\n",
              "    <tr>\n",
              "      <th>0101</th>\n",
              "      <td>0</td>\n",
              "    </tr>\n",
              "    <tr>\n",
              "      <th>0110</th>\n",
              "      <td>0</td>\n",
              "    </tr>\n",
              "    <tr>\n",
              "      <th>0111</th>\n",
              "      <td>0</td>\n",
              "    </tr>\n",
              "    <tr>\n",
              "      <th>1000</th>\n",
              "      <td>1</td>\n",
              "    </tr>\n",
              "    <tr>\n",
              "      <th>1001</th>\n",
              "      <td>0</td>\n",
              "    </tr>\n",
              "    <tr>\n",
              "      <th>1010</th>\n",
              "      <td>0</td>\n",
              "    </tr>\n",
              "    <tr>\n",
              "      <th>1011</th>\n",
              "      <td>0</td>\n",
              "    </tr>\n",
              "    <tr>\n",
              "      <th>1100</th>\n",
              "      <td>0</td>\n",
              "    </tr>\n",
              "    <tr>\n",
              "      <th>1101</th>\n",
              "      <td>0</td>\n",
              "    </tr>\n",
              "    <tr>\n",
              "      <th>1110</th>\n",
              "      <td>0</td>\n",
              "    </tr>\n",
              "    <tr>\n",
              "      <th>1111</th>\n",
              "      <td>0</td>\n",
              "    </tr>\n",
              "  </tbody>\n",
              "</table>\n",
              "</div>"
            ],
            "text/plain": [
              "      f\n",
              "x      \n",
              "0000  1\n",
              "0001  1\n",
              "0010  1\n",
              "0011  0\n",
              "0100  1\n",
              "0101  0\n",
              "0110  0\n",
              "0111  0\n",
              "1000  1\n",
              "1001  0\n",
              "1010  0\n",
              "1011  0\n",
              "1100  0\n",
              "1101  0\n",
              "1110  0\n",
              "1111  0"
            ]
          },
          "metadata": {},
          "execution_count": 3
        }
      ]
    },
    {
      "cell_type": "markdown",
      "metadata": {
        "id": "ffs8IzT1gn9z"
      },
      "source": [
        "Let's suppose that the first eight elements from\n",
        "$\\mathcal{X}$ are twice as likely as the last eight. The following code is a\n",
        "function that generates elements from $\\mathcal{X}$ according to this\n",
        "distribution."
      ]
    },
    {
      "cell_type": "code",
      "metadata": {
        "id": "Xe4L-cShgn90"
      },
      "source": [
        "def get_sample(n=1):\n",
        "   if n==1:\n",
        "      return '{0:04b}'.format(np.random.choice(list(range(8))*2+list(range(8,16))))\n",
        "   else:\n",
        "      return [get_sample(1) for _ in range(n)]"
      ],
      "execution_count": null,
      "outputs": []
    },
    {
      "cell_type": "markdown",
      "metadata": {
        "id": "GLkD2rkggn90"
      },
      "source": [
        "**Programming Tip.**\n",
        "\n",
        "The function that returns random samples uses the\n",
        "`np.random.choice` function from Numpy which takes samples (with replacement)\n",
        "from the given iterable.  Because we want the first eight numbers to be twice\n",
        "as frequent as the rest, we simply repeat them in the iterable using\n",
        "`range(8)*2`. Recall that multiplying a Python list by an integer duplicates\n",
        "the entire list by that integer. It does not do element-wise multiplication as\n",
        "with Numpy arrays. If we wanted the first eight to be 10 times more frequent,\n",
        "then we would use `range(8)*10`, for example. This is a simple but powerful\n",
        "technique that requires very little code. Note that the `p` keyword argument in\n",
        "`np.random.choice` also provides an explicit way to specify more  complicated\n",
        "distributions.\n",
        "\n",
        "\n",
        "\n",
        " The next block applies the function definition $f$ to the\n",
        "sampled data to generate the training set consisting of 5 elements."
      ]
    },
    {
      "cell_type": "code",
      "metadata": {
        "id": "Q5JGNkopgn91",
        "colab": {
          "base_uri": "https://localhost:8080/"
        },
        "outputId": "0192f2ab-c4df-4b8e-9bff-21bce7652737"
      },
      "source": [
        "np.random.seed(12) # for reproduction\n",
        "train=df.loc[get_sample(5),'f'] # 5-element training set\n",
        "train.index.unique().shape    # how many unique elements?"
      ],
      "execution_count": null,
      "outputs": [
        {
          "output_type": "execute_result",
          "data": {
            "text/plain": [
              "(4,)"
            ]
          },
          "metadata": {},
          "execution_count": 40
        }
      ]
    },
    {
      "cell_type": "markdown",
      "metadata": {
        "id": "a-PMDBrrgn92"
      },
      "source": [
        "Notice that even though there are 5 elements, there is redundancy\n",
        "because these are drawn according to an underlying probability.  Under the\n",
        "assumption that the prediction will be used in an environment that is\n",
        "determined by the same probability, getting something outside of the training\n",
        "set is just as likely as getting something inside the training set.  "
      ]
    },
    {
      "cell_type": "code",
      "metadata": {
        "id": "NNd68Avygn92",
        "colab": {
          "base_uri": "https://localhost:8080/"
        },
        "outputId": "0fb432bb-b060-4b80-b477-d81603968ff2"
      },
      "source": [
        "df['g']=df.loc[train.index.unique(),'f']\n",
        "df.g"
      ],
      "execution_count": null,
      "outputs": [
        {
          "output_type": "execute_result",
          "data": {
            "text/plain": [
              "x\n",
              "0000    NaN\n",
              "0001    NaN\n",
              "0010    1.0\n",
              "0011    0.0\n",
              "0100    NaN\n",
              "0101    NaN\n",
              "0110    0.0\n",
              "0111    NaN\n",
              "1000    NaN\n",
              "1001    0.0\n",
              "1010    NaN\n",
              "1011    NaN\n",
              "1100    NaN\n",
              "1101    NaN\n",
              "1110    NaN\n",
              "1111    NaN\n",
              "Name: g, dtype: float64"
            ]
          },
          "metadata": {},
          "execution_count": 41
        }
      ]
    },
    {
      "cell_type": "markdown",
      "metadata": {
        "id": "3VJNou5xgn93"
      },
      "source": [
        "Note that there are `NaN` symbols where the training set had\n",
        "no values. For definiteness, we fill these in with zeros, although we\n",
        "can fill them with anything we want so long as whatever we do is not\n",
        "determined by the training set."
      ]
    },
    {
      "cell_type": "code",
      "metadata": {
        "collapsed": true,
        "jupyter": {
          "outputs_hidden": true
        },
        "id": "qSRiPUicgn93",
        "colab": {
          "base_uri": "https://localhost:8080/"
        },
        "outputId": "0a55acd5-acb4-4723-d99b-1f151f9bbd14"
      },
      "source": [
        "df.g.fillna(0,inplace=True) #final specification of g\n",
        "df.g"
      ],
      "execution_count": null,
      "outputs": [
        {
          "output_type": "execute_result",
          "data": {
            "text/plain": [
              "x\n",
              "0000    0.0\n",
              "0001    0.0\n",
              "0010    1.0\n",
              "0011    0.0\n",
              "0100    0.0\n",
              "0101    0.0\n",
              "0110    0.0\n",
              "0111    0.0\n",
              "1000    0.0\n",
              "1001    0.0\n",
              "1010    0.0\n",
              "1011    0.0\n",
              "1100    0.0\n",
              "1101    0.0\n",
              "1110    0.0\n",
              "1111    0.0\n",
              "Name: g, dtype: float64"
            ]
          },
          "metadata": {},
          "execution_count": 42
        }
      ]
    },
    {
      "cell_type": "markdown",
      "metadata": {
        "id": "xx8J5kzTgn93"
      },
      "source": [
        "Now, let's pretend we have deployed this and generate some\n",
        "test data."
      ]
    },
    {
      "cell_type": "code",
      "metadata": {
        "id": "_dQPQ-gcgn94",
        "colab": {
          "base_uri": "https://localhost:8080/"
        },
        "outputId": "3c305531-19a7-461f-f506-042ad7fb394f"
      },
      "source": [
        "np.random.seed(12) # for reproduction\n",
        "test= df.loc[get_sample(150),'f']\n",
        "(df.loc[test.index,'g'] != test).mean()"
      ],
      "execution_count": null,
      "outputs": [
        {
          "output_type": "execute_result",
          "data": {
            "text/plain": [
              "0.32"
            ]
          },
          "metadata": {},
          "execution_count": 43
        }
      ]
    },
    {
      "cell_type": "markdown",
      "metadata": {
        "id": "UdTBoCmggn94"
      },
      "source": [
        "The result shows the error rate, given the probability\n",
        "mechanism that is generating the data.  The following Pandas-fu\n",
        "compares the overlap between the training set and the test set in the\n",
        "context of all possible data.  The `NaN` values show the rows where\n",
        "the test data had items absent in the training data. Recall that the\n",
        "method returns zero for these items.  As shown, sometimes this works\n",
        "in its favor, and sometimes not."
      ]
    },
    {
      "cell_type": "code",
      "metadata": {
        "id": "iMzISrXygn94",
        "colab": {
          "base_uri": "https://localhost:8080/",
          "height": 551
        },
        "outputId": "345ee5d6-c504-452e-fff9-19517761349b"
      },
      "source": [
        "pd.concat([test.groupby(level=0).mean(), \n",
        "           train.groupby(level=0).mean()],\n",
        "          axis=1,\n",
        "          keys=['test','train'])"
      ],
      "execution_count": null,
      "outputs": [
        {
          "output_type": "execute_result",
          "data": {
            "text/html": [
              "<div>\n",
              "<style scoped>\n",
              "    .dataframe tbody tr th:only-of-type {\n",
              "        vertical-align: middle;\n",
              "    }\n",
              "\n",
              "    .dataframe tbody tr th {\n",
              "        vertical-align: top;\n",
              "    }\n",
              "\n",
              "    .dataframe thead th {\n",
              "        text-align: right;\n",
              "    }\n",
              "</style>\n",
              "<table border=\"1\" class=\"dataframe\">\n",
              "  <thead>\n",
              "    <tr style=\"text-align: right;\">\n",
              "      <th></th>\n",
              "      <th>test</th>\n",
              "      <th>train</th>\n",
              "    </tr>\n",
              "  </thead>\n",
              "  <tbody>\n",
              "    <tr>\n",
              "      <th>0000</th>\n",
              "      <td>1</td>\n",
              "      <td>NaN</td>\n",
              "    </tr>\n",
              "    <tr>\n",
              "      <th>0001</th>\n",
              "      <td>1</td>\n",
              "      <td>NaN</td>\n",
              "    </tr>\n",
              "    <tr>\n",
              "      <th>0010</th>\n",
              "      <td>1</td>\n",
              "      <td>1.0</td>\n",
              "    </tr>\n",
              "    <tr>\n",
              "      <th>0011</th>\n",
              "      <td>0</td>\n",
              "      <td>0.0</td>\n",
              "    </tr>\n",
              "    <tr>\n",
              "      <th>0100</th>\n",
              "      <td>1</td>\n",
              "      <td>NaN</td>\n",
              "    </tr>\n",
              "    <tr>\n",
              "      <th>0101</th>\n",
              "      <td>0</td>\n",
              "      <td>NaN</td>\n",
              "    </tr>\n",
              "    <tr>\n",
              "      <th>0110</th>\n",
              "      <td>0</td>\n",
              "      <td>0.0</td>\n",
              "    </tr>\n",
              "    <tr>\n",
              "      <th>0111</th>\n",
              "      <td>0</td>\n",
              "      <td>NaN</td>\n",
              "    </tr>\n",
              "    <tr>\n",
              "      <th>1000</th>\n",
              "      <td>1</td>\n",
              "      <td>NaN</td>\n",
              "    </tr>\n",
              "    <tr>\n",
              "      <th>1001</th>\n",
              "      <td>0</td>\n",
              "      <td>0.0</td>\n",
              "    </tr>\n",
              "    <tr>\n",
              "      <th>1010</th>\n",
              "      <td>0</td>\n",
              "      <td>NaN</td>\n",
              "    </tr>\n",
              "    <tr>\n",
              "      <th>1011</th>\n",
              "      <td>0</td>\n",
              "      <td>NaN</td>\n",
              "    </tr>\n",
              "    <tr>\n",
              "      <th>1100</th>\n",
              "      <td>0</td>\n",
              "      <td>NaN</td>\n",
              "    </tr>\n",
              "    <tr>\n",
              "      <th>1101</th>\n",
              "      <td>0</td>\n",
              "      <td>NaN</td>\n",
              "    </tr>\n",
              "    <tr>\n",
              "      <th>1110</th>\n",
              "      <td>0</td>\n",
              "      <td>NaN</td>\n",
              "    </tr>\n",
              "    <tr>\n",
              "      <th>1111</th>\n",
              "      <td>0</td>\n",
              "      <td>NaN</td>\n",
              "    </tr>\n",
              "  </tbody>\n",
              "</table>\n",
              "</div>"
            ],
            "text/plain": [
              "      test  train\n",
              "0000     1    NaN\n",
              "0001     1    NaN\n",
              "0010     1    1.0\n",
              "0011     0    0.0\n",
              "0100     1    NaN\n",
              "0101     0    NaN\n",
              "0110     0    0.0\n",
              "0111     0    NaN\n",
              "1000     1    NaN\n",
              "1001     0    0.0\n",
              "1010     0    NaN\n",
              "1011     0    NaN\n",
              "1100     0    NaN\n",
              "1101     0    NaN\n",
              "1110     0    NaN\n",
              "1111     0    NaN"
            ]
          },
          "metadata": {},
          "execution_count": 44
        }
      ]
    },
    {
      "cell_type": "markdown",
      "metadata": {
        "id": "33V20pTdgn95"
      },
      "source": [
        "**Programming Tip.**\n",
        "\n",
        "The `pd.concat` function concatenates the two `Series` objects in the\n",
        "list. The `axis=1` means join the two objects along the columns where\n",
        "each newly created column is named according to the given `keys`. The\n",
        "`level=0` in the `groupby` for each of the `Series` objects  means\n",
        "group along the index. Because the index corresponds to the 4-bit\n",
        "elements, this accounts for repetition in the elements. The `mean`\n",
        "aggregation function computes the values of the function for each\n",
        "4-bit element. Because all functions in each  respective group have\n",
        "the same value, the `mean` just picks out that value\n",
        "because the average of a list of constants is that constant.\n",
        "\n",
        "The size of the training set is key here --- the bigger the training set, the less\n",
        "likely that there will be real-world data that fall outside of it and the\n",
        "better $g$ will perform.  "
      ]
    },
    {
      "cell_type": "code",
      "metadata": {
        "id": "IKcjcOiRgn95",
        "colab": {
          "base_uri": "https://localhost:8080/"
        },
        "outputId": "39b6c1be-107e-4dda-f3af-6503952afb5e"
      },
      "source": [
        "np.random.seed(12) # for reproduction\n",
        "train=df.loc[get_sample(12),'f'] \n",
        "del df['g']   \n",
        "df['g']=df.loc[train.index.unique(),'f']\n",
        "df.g.fillna(0,inplace=True) #final specification of g\n",
        "np.random.seed(30) # for reproduction\n",
        "test= df.loc[get_sample(150),'f'] \n",
        "(df.loc[test.index,'g'] != df.loc[test.index,'f']).mean() # error rate"
      ],
      "execution_count": null,
      "outputs": [
        {
          "output_type": "execute_result",
          "data": {
            "text/plain": [
              "0.12666666666666668"
            ]
          },
          "metadata": {},
          "execution_count": 53
        }
      ]
    },
    {
      "cell_type": "code",
      "metadata": {
        "id": "OG2GeOULgn95",
        "colab": {
          "base_uri": "https://localhost:8080/",
          "height": 551
        },
        "outputId": "c68ea65d-3df8-4727-e452-06ef62de3542"
      },
      "source": [
        "pd.concat([test.groupby(level=0).mean(), \n",
        "           train.groupby(level=0).mean()],\n",
        "          axis=1,\n",
        "          keys=['test','train'])"
      ],
      "execution_count": null,
      "outputs": [
        {
          "output_type": "execute_result",
          "data": {
            "text/html": [
              "<div>\n",
              "<style scoped>\n",
              "    .dataframe tbody tr th:only-of-type {\n",
              "        vertical-align: middle;\n",
              "    }\n",
              "\n",
              "    .dataframe tbody tr th {\n",
              "        vertical-align: top;\n",
              "    }\n",
              "\n",
              "    .dataframe thead th {\n",
              "        text-align: right;\n",
              "    }\n",
              "</style>\n",
              "<table border=\"1\" class=\"dataframe\">\n",
              "  <thead>\n",
              "    <tr style=\"text-align: right;\">\n",
              "      <th></th>\n",
              "      <th>test</th>\n",
              "      <th>train</th>\n",
              "    </tr>\n",
              "  </thead>\n",
              "  <tbody>\n",
              "    <tr>\n",
              "      <th>0000</th>\n",
              "      <td>1</td>\n",
              "      <td>NaN</td>\n",
              "    </tr>\n",
              "    <tr>\n",
              "      <th>0001</th>\n",
              "      <td>1</td>\n",
              "      <td>NaN</td>\n",
              "    </tr>\n",
              "    <tr>\n",
              "      <th>0010</th>\n",
              "      <td>1</td>\n",
              "      <td>1.0</td>\n",
              "    </tr>\n",
              "    <tr>\n",
              "      <th>0011</th>\n",
              "      <td>0</td>\n",
              "      <td>0.0</td>\n",
              "    </tr>\n",
              "    <tr>\n",
              "      <th>0100</th>\n",
              "      <td>1</td>\n",
              "      <td>1.0</td>\n",
              "    </tr>\n",
              "    <tr>\n",
              "      <th>0101</th>\n",
              "      <td>0</td>\n",
              "      <td>0.0</td>\n",
              "    </tr>\n",
              "    <tr>\n",
              "      <th>0110</th>\n",
              "      <td>0</td>\n",
              "      <td>0.0</td>\n",
              "    </tr>\n",
              "    <tr>\n",
              "      <th>0111</th>\n",
              "      <td>0</td>\n",
              "      <td>NaN</td>\n",
              "    </tr>\n",
              "    <tr>\n",
              "      <th>1000</th>\n",
              "      <td>1</td>\n",
              "      <td>1.0</td>\n",
              "    </tr>\n",
              "    <tr>\n",
              "      <th>1001</th>\n",
              "      <td>0</td>\n",
              "      <td>0.0</td>\n",
              "    </tr>\n",
              "    <tr>\n",
              "      <th>1010</th>\n",
              "      <td>0</td>\n",
              "      <td>NaN</td>\n",
              "    </tr>\n",
              "    <tr>\n",
              "      <th>1011</th>\n",
              "      <td>0</td>\n",
              "      <td>NaN</td>\n",
              "    </tr>\n",
              "    <tr>\n",
              "      <th>1100</th>\n",
              "      <td>0</td>\n",
              "      <td>0.0</td>\n",
              "    </tr>\n",
              "    <tr>\n",
              "      <th>1101</th>\n",
              "      <td>0</td>\n",
              "      <td>NaN</td>\n",
              "    </tr>\n",
              "    <tr>\n",
              "      <th>1110</th>\n",
              "      <td>0</td>\n",
              "      <td>0.0</td>\n",
              "    </tr>\n",
              "    <tr>\n",
              "      <th>1111</th>\n",
              "      <td>0</td>\n",
              "      <td>NaN</td>\n",
              "    </tr>\n",
              "  </tbody>\n",
              "</table>\n",
              "</div>"
            ],
            "text/plain": [
              "      test  train\n",
              "0000     1    NaN\n",
              "0001     1    NaN\n",
              "0010     1    1.0\n",
              "0011     0    0.0\n",
              "0100     1    1.0\n",
              "0101     0    0.0\n",
              "0110     0    0.0\n",
              "0111     0    NaN\n",
              "1000     1    1.0\n",
              "1001     0    0.0\n",
              "1010     0    NaN\n",
              "1011     0    NaN\n",
              "1100     0    0.0\n",
              "1101     0    NaN\n",
              "1110     0    0.0\n",
              "1111     0    NaN"
            ]
          },
          "metadata": {},
          "execution_count": 54
        }
      ]
    },
    {
      "cell_type": "code",
      "metadata": {
        "id": "_BdbzTffgn95"
      },
      "source": [],
      "execution_count": null,
      "outputs": []
    }
  ]
}