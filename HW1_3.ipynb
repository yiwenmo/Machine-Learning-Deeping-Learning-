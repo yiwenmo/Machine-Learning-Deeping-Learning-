{
  "nbformat": 4,
  "nbformat_minor": 0,
  "metadata": {
    "colab": {
      "provenance": []
    },
    "kernelspec": {
      "name": "python3",
      "display_name": "Python 3"
    },
    "language_info": {
      "name": "python"
    }
  },
  "cells": [
    {
      "cell_type": "markdown",
      "metadata": {
        "id": "HKrlXgxaW5H4"
      },
      "source": [
        "### **Student ID**\n",
        "Please fill in your student IDs below. Please notice that different student IDs should receive different dataset, which will lead to different answer. Make sure you fill the correct student IDs that you enrolled this class. Otherwise, you will get wrong answer and get no points."
      ]
    },
    {
      "cell_type": "code",
      "metadata": {
        "id": "hBm2N-lpYI7p"
      },
      "source": [
        "student_id = 'r10521804' # fill with your student ID\n",
        "\n",
        "assert student_id != 'your_student_id', 'Please fill in your student_id before you start.'"
      ],
      "execution_count": null,
      "outputs": []
    },
    {
      "cell_type": "code",
      "metadata": {
        "id": "njeP6RQPWi5T"
      },
      "source": [
        "import numpy as np\n",
        "from sklearn import datasets\n",
        "def gen_data(id):\n",
        "  np.random.seed(int(id[-3:]))\n",
        "  return datasets.make_regression(n_samples=10, n_features=1, noise=20)"
      ],
      "execution_count": null,
      "outputs": []
    },
    {
      "cell_type": "markdown",
      "metadata": {
        "id": "LGywKkTta4j2"
      },
      "source": [
        "### **Generate the data**\n",
        "The following code gen_data will generate your homework data. Please use this set of data to finish your homework. "
      ]
    },
    {
      "cell_type": "code",
      "metadata": {
        "id": "Au0n_oQEZ8mF",
        "colab": {
          "base_uri": "https://localhost:8080/"
        },
        "outputId": "01186224-ec10-4124-f6c5-7a0da419b19c"
      },
      "source": [
        "X, Y = gen_data(student_id)\n",
        "Y = Y.transpose()\n",
        "print(type(Y))\n",
        "print(X)"
      ],
      "execution_count": null,
      "outputs": [
        {
          "output_type": "stream",
          "name": "stdout",
          "text": [
            "<class 'numpy.ndarray'>\n",
            "[[-1.34235451]\n",
            " [-0.43427312]\n",
            " [-1.46457222]\n",
            " [-0.68886622]\n",
            " [ 2.90385679]\n",
            " [-0.37262718]\n",
            " [-0.71468114]\n",
            " [ 1.30911192]\n",
            " [-0.99827307]\n",
            " [-0.51417254]]\n"
          ]
        }
      ]
    },
    {
      "cell_type": "markdown",
      "metadata": {
        "id": "Yxdk2rm5bp-Z"
      },
      "source": [
        "### **Least_Squares_Fit Function**\n",
        "The following block is the main goal of this homework. Try your best to finish the TODO block which implement the least squares model, and find the corresponding beta0 and beta1."
      ]
    },
    {
      "cell_type": "code",
      "metadata": {
        "id": "SoN43jB0aOVV"
      },
      "source": [
        "def least_squares_fit(X, Y):\n",
        "  # TODO: Please implement the linear regression model\n",
        "  from sklearn.linear_model import LinearRegression\n",
        "  model = LinearRegression(fit_intercept=True)\n",
        "  model.fit(X,Y)\n",
        "  print(model.intercept_) \n",
        "  print(model.coef_) #slope\n",
        "  beta0 = model.intercept_\n",
        "  beta1 = model.coef_ #array\n",
        "  beta1 = np.float(beta1)\n",
        "  return beta0, beta1"
      ],
      "execution_count": null,
      "outputs": []
    },
    {
      "cell_type": "code",
      "metadata": {
        "colab": {
          "base_uri": "https://localhost:8080/",
          "height": 202
        },
        "id": "aD-7OQnBmULr",
        "outputId": "1047f8f0-75c1-4be8-afb1-32619c0671b3"
      },
      "source": [
        "#beta0 & beta1 need to be the same type\n",
        "print(type(beta0))\n",
        "print(type(beta1))"
      ],
      "execution_count": null,
      "outputs": [
        {
          "output_type": "error",
          "ename": "NameError",
          "evalue": "ignored",
          "traceback": [
            "\u001b[0;31m---------------------------------------------------------------------------\u001b[0m",
            "\u001b[0;31mNameError\u001b[0m                                 Traceback (most recent call last)",
            "\u001b[0;32m<ipython-input-8-4503f9bb7550>\u001b[0m in \u001b[0;36m<module>\u001b[0;34m\u001b[0m\n\u001b[1;32m      1\u001b[0m \u001b[0;31m#beta0 & beta1 need to be the same type\u001b[0m\u001b[0;34m\u001b[0m\u001b[0;34m\u001b[0m\u001b[0;34m\u001b[0m\u001b[0m\n\u001b[0;32m----> 2\u001b[0;31m \u001b[0mprint\u001b[0m\u001b[0;34m(\u001b[0m\u001b[0mtype\u001b[0m\u001b[0;34m(\u001b[0m\u001b[0mbeta0\u001b[0m\u001b[0;34m)\u001b[0m\u001b[0;34m)\u001b[0m\u001b[0;34m\u001b[0m\u001b[0;34m\u001b[0m\u001b[0m\n\u001b[0m\u001b[1;32m      3\u001b[0m \u001b[0mprint\u001b[0m\u001b[0;34m(\u001b[0m\u001b[0mtype\u001b[0m\u001b[0;34m(\u001b[0m\u001b[0mbeta1\u001b[0m\u001b[0;34m)\u001b[0m\u001b[0;34m)\u001b[0m\u001b[0;34m\u001b[0m\u001b[0;34m\u001b[0m\u001b[0m\n",
            "\u001b[0;31mNameError\u001b[0m: name 'beta0' is not defined"
          ]
        }
      ]
    },
    {
      "cell_type": "markdown",
      "metadata": {
        "id": "XQEevA4Fcazk"
      },
      "source": [
        "### **Draw the data**\n",
        "The plot_data function is where you draw the data, please finish the TODO by yourself."
      ]
    },
    {
      "cell_type": "code",
      "metadata": {
        "id": "oxdAp3jLcwDK"
      },
      "source": [
        "import matplotlib.pyplot as plt \n",
        "def plot_data(X, Y, beta0, beta1):\n",
        "  # TODO: Plot the data and save it as fig_name\n",
        "  fig_name = student_id+'.png'\n",
        "  plt.scatter(X,Y,color='blue') #create scatter plot\n",
        "  plt.plot(X,beta1*X+beta0,color='red',linewidth=3,markersize=20) #create the line\n",
        "  plt.show()\n",
        "  # TODO: This is just a sample\n",
        "  #plt.savefig(fig_name)\n",
        "\n"
      ],
      "execution_count": null,
      "outputs": []
    },
    {
      "cell_type": "code",
      "metadata": {
        "id": "gjyIyHJHvAaU"
      },
      "source": [],
      "execution_count": null,
      "outputs": []
    },
    {
      "cell_type": "markdown",
      "metadata": {
        "id": "ieW85QtWcLHo"
      },
      "source": [
        "### **The CSV file**\n",
        "The output_csv function is to output your beta0 and beta1 to a standard format. Please pass in your beta0 and beta1 to generate the csv file. Notice that if your format is different from us, you'll get zero points in this homework. "
      ]
    },
    {
      "cell_type": "code",
      "metadata": {
        "id": "Bft36FXcd9Le"
      },
      "source": [
        "import csv\n",
        "def output_csv(beta0, beta1):\n",
        "  csv_file_name = student_id + '_p3.csv'\n",
        "  with open(csv_file_name, 'w', newline='') as csvfile:\n",
        "    writer = csv.writer(csvfile)\n",
        "    writer.writerow([round(beta0, 2)])\n",
        "    writer.writerow([round(beta1, 2)])"
      ],
      "execution_count": null,
      "outputs": []
    },
    {
      "cell_type": "markdown",
      "metadata": {
        "id": "ojm7H30geeho"
      },
      "source": [
        "### **Sample Run**"
      ]
    },
    {
      "cell_type": "code",
      "metadata": {
        "colab": {
          "base_uri": "https://localhost:8080/",
          "height": 372
        },
        "id": "BHXAnVsoedxT",
        "outputId": "f1048748-cc42-40de-b9bd-60de90c80f70"
      },
      "source": [
        "beta0, beta1 = least_squares_fit(X, Y)\n",
        "plot_data(X, Y, beta0, beta1)\n",
        "output_csv(beta0,beta1)"
      ],
      "execution_count": null,
      "outputs": [
        {
          "output_type": "stream",
          "name": "stdout",
          "text": [
            "1.348454586084852\n",
            "[30.53763803]\n"
          ]
        },
        {
          "output_type": "stream",
          "name": "stderr",
          "text": [
            "/usr/local/lib/python3.7/dist-packages/ipykernel_launcher.py:10: DeprecationWarning: `np.float` is a deprecated alias for the builtin `float`. To silence this warning, use `float` by itself. Doing this will not modify any behavior and is safe. If you specifically wanted the numpy scalar type, use `np.float64` here.\n",
            "Deprecated in NumPy 1.20; for more details and guidance: https://numpy.org/devdocs/release/1.20.0-notes.html#deprecations\n",
            "  # Remove the CWD from sys.path while we load stuff.\n"
          ]
        },
        {
          "output_type": "display_data",
          "data": {
            "text/plain": [
              "<Figure size 432x288 with 1 Axes>"
            ],
            "image/png": "[encoded data removed]"
          },
          "metadata": {
            "needs_background": "light"
          }
        }
      ]
    },
    {
      "cell_type": "code",
      "source": [],
      "metadata": {
        "id": "yj3mqPqBWL-d"
      },
      "execution_count": null,
      "outputs": []
    }
  ]
}