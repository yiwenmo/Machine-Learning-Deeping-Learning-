{
  "nbformat": 4,
  "nbformat_minor": 0,
  "metadata": {
    "colab": {
      "provenance": []
    },
    "kernelspec": {
      "name": "python3",
      "display_name": "Python 3"
    },
    "language_info": {
      "name": "python"
    }
  },
  "cells": [
    {
      "cell_type": "markdown",
      "metadata": {
        "id": "Vhqlema4X9N7"
      },
      "source": [
        "**Download the dataset and debugging code**"
      ]
    },
    {
      "cell_type": "code",
      "metadata": {
        "colab": {
          "base_uri": "https://localhost:8080/"
        },
        "id": "1otxR4A3Xajv",
        "outputId": "e537804f-6a60-4076-a714-770b9ed87cea"
      },
      "source": [
        "# Path name for dataset\n",
        "train_path = 'hw4.csv'\n",
        "test_path = 'hw4_testing.csv'\n",
        "\n",
        "\n",
        "# Download the data \n",
        "!gdown --id '1AYRPCokkyus9klaph3Mn8LxfrFATQ3OD' --output hw4_testing.csv\n",
        "!gdown --id '17Ec_qbQQKYiZdpBi8OzmuBUx_H5r2lVU' --output hw4.csv\n",
        "!gdown --id '1qWkJJ9P3WZ55i9YeZ3UzDl5-8ae5EZ2P' --output pcl\n",
        "!gdown --id '1QUBUfDCV5dQZqUXKwT7zWiS3qR6Kf4AZ' --output sample_submission.csv\n"
      ],
      "execution_count": null,
      "outputs": [
        {
          "output_type": "stream",
          "name": "stdout",
          "text": [
            "Downloading...\n",
            "From: https://drive.google.com/uc?id=1AYRPCokkyus9klaph3Mn8LxfrFATQ3OD\n",
            "To: /content/hw4_testing.csv\n",
            "100% 1.28k/1.28k [00:00<00:00, 933kB/s]\n",
            "Downloading...\n",
            "From: https://drive.google.com/uc?id=17Ec_qbQQKYiZdpBi8OzmuBUx_H5r2lVU\n",
            "To: /content/hw4.csv\n",
            "100% 1.53k/1.53k [00:00<00:00, 1.32MB/s]\n",
            "Downloading...\n",
            "From: https://drive.google.com/uc?id=1qWkJJ9P3WZ55i9YeZ3UzDl5-8ae5EZ2P\n",
            "To: /content/pcl\n",
            "100% 20.5M/20.5M [00:00<00:00, 26.7MB/s]\n",
            "Downloading...\n",
            "From: https://drive.google.com/uc?id=1QUBUfDCV5dQZqUXKwT7zWiS3qR6Kf4AZ\n",
            "To: /content/sample_submission.csv\n",
            "100% 236/236 [00:00<00:00, 165kB/s]\n"
          ]
        }
      ]
    },
    {
      "cell_type": "markdown",
      "metadata": {
        "id": "2LtqddKKXtxn"
      },
      "source": [
        "**Run this block for debuging your algorithm**\n",
        "\n",
        "This debug code is the output of hw4_testing.csv. \n",
        "\n",
        "You should instead train your algorithm on hw4.csv.\n",
        "\n",
        "That is, instead of obtaining five weights in each epoch, you should calculate six weights in each epoch."
      ]
    },
    {
      "cell_type": "code",
      "metadata": {
        "colab": {
          "base_uri": "https://localhost:8080/"
        },
        "id": "dHFAbVS_XgYa",
        "outputId": "b5501800-1f39-4074-8226-4179817470c8"
      },
      "source": [
        "!chmod +x pcl\n",
        "!./pcl "
      ],
      "execution_count": null,
      "outputs": [
        {
          "output_type": "stream",
          "name": "stdout",
          "text": [
            "epoch = 1, weights = 0.30 0.76 0.19 0.78 0.33\n",
            "epoch = 2, weights = 0.30 0.66 0.31 0.73 0.37\n",
            "epoch = 3, weights = 0.30 0.57 0.42 0.69 0.42\n",
            "epoch = 4, weights = 0.50 0.64 0.33 0.56 0.44\n",
            "epoch = 5, weights = 0.30 0.55 0.45 0.67 0.43\n",
            "epoch = 6, weights = 0.10 0.65 0.32 0.79 0.36\n",
            "epoch = 7, weights = 0.30 0.73 0.23 0.65 0.38\n",
            "epoch = 8, weights = 0.30 0.63 0.35 0.61 0.43\n",
            "epoch = 9, weights = 0.30 0.53 0.46 0.57 0.47\n",
            "epoch = 10, weights = 0.10 0.63 0.34 0.69 0.40\n"
          ]
        }
      ]
    },
    {
      "cell_type": "markdown",
      "metadata": {
        "id": "fpSak1_GXsVd"
      },
      "source": [
        "**Implement your perceptron algorithm**\n",
        "\n",
        "Implement the perceptron algorithm with following configuration\n",
        "\n",
        "learning_rate = 0.1\n",
        "\n",
        "number of epoch = 10\n",
        "\n",
        "initial_weight = 0.5"
      ]
    },
    {
      "cell_type": "code",
      "metadata": {
        "id": "zUqweCpuXn9S",
        "colab": {
          "base_uri": "https://localhost:8080/"
        },
        "outputId": "f752015f-a815-4f3f-ebd5-8f1733839900"
      },
      "source": [
        "import numpy as np\n",
        "dataset = np.genfromtxt('hw4.csv', delimiter=',')\n",
        "l_rate = 0.1\n",
        "n_epoch = 10\n",
        "initial_weight = 0.5\n",
        "print(dataset)"
      ],
      "execution_count": null,
      "outputs": [
        {
          "output_type": "stream",
          "name": "stdout",
          "text": [
            "[[ 1.35376718 -0.73229415 -0.87210827  0.4167009   0.03419463  1.        ]\n",
            " [-0.34823046 -0.17911861 -0.36049543 -0.27048646  0.1655967  -1.        ]\n",
            " [ 0.46549712 -0.76022261 -1.75218105 -1.71012837  0.94015988 -1.        ]\n",
            " [ 0.54476608  0.08702073  0.30319383  0.455433   -0.21725465 -1.        ]\n",
            " [-0.05787224 -0.81447809 -0.5810378   1.4476303  -0.37748363  1.        ]\n",
            " [-0.28995799  1.21599171  1.94815541  0.57322546 -0.59093697  1.        ]\n",
            " [ 0.37415928  1.25029887  1.60918821 -0.40738126 -0.18676714 -1.        ]\n",
            " [ 0.1571476   1.17962141  1.96143641  0.73712682 -0.64970024  1.        ]\n",
            " [-0.56058188  1.06263953  1.29098067 -0.540268   -0.0768146  -1.        ]\n",
            " [ 1.09209633 -1.48729335 -1.53741056  1.43803145 -0.18037147  1.        ]]\n"
          ]
        }
      ]
    },
    {
      "cell_type": "code",
      "metadata": {
        "colab": {
          "base_uri": "https://localhost:8080/"
        },
        "id": "opLnWWX-R80Y",
        "outputId": "c7eb516b-bceb-4bad-bd7b-e6a45ce2c129"
      },
      "source": [
        "#定義xy資料\n",
        "weight_init = np.array([initial_weight]*6) #create the initial weight array\n",
        "print(weight_init)\n",
        "x0 = np.repeat([1], 10) #create the bias w0*x0 which w0 = bias, x0 = 1\n",
        "print(x0)\n",
        "#print(dataset[0,:-1])\n",
        "dataset_new = np.c_[x0.T,dataset] #add bias(x0) inside the dataset\n",
        "print(dataset_new) #there have 6 features(x0-x5) and one y \n",
        "y = dataset[:,-1] #get the true y"
      ],
      "execution_count": null,
      "outputs": [
        {
          "output_type": "stream",
          "name": "stdout",
          "text": [
            "[0.5 0.5 0.5 0.5 0.5 0.5]\n",
            "[1 1 1 1 1 1 1 1 1 1]\n",
            "[[ 1.          1.35376718 -0.73229415 -0.87210827  0.4167009   0.03419463\n",
            "   1.        ]\n",
            " [ 1.         -0.34823046 -0.17911861 -0.36049543 -0.27048646  0.1655967\n",
            "  -1.        ]\n",
            " [ 1.          0.46549712 -0.76022261 -1.75218105 -1.71012837  0.94015988\n",
            "  -1.        ]\n",
            " [ 1.          0.54476608  0.08702073  0.30319383  0.455433   -0.21725465\n",
            "  -1.        ]\n",
            " [ 1.         -0.05787224 -0.81447809 -0.5810378   1.4476303  -0.37748363\n",
            "   1.        ]\n",
            " [ 1.         -0.28995799  1.21599171  1.94815541  0.57322546 -0.59093697\n",
            "   1.        ]\n",
            " [ 1.          0.37415928  1.25029887  1.60918821 -0.40738126 -0.18676714\n",
            "  -1.        ]\n",
            " [ 1.          0.1571476   1.17962141  1.96143641  0.73712682 -0.64970024\n",
            "   1.        ]\n",
            " [ 1.         -0.56058188  1.06263953  1.29098067 -0.540268   -0.0768146\n",
            "  -1.        ]\n",
            " [ 1.          1.09209633 -1.48729335 -1.53741056  1.43803145 -0.18037147\n",
            "   1.        ]]\n"
          ]
        }
      ]
    },
    {
      "cell_type": "code",
      "metadata": {
        "colab": {
          "base_uri": "https://localhost:8080/"
        },
        "id": "X3_4sbaAq7dK",
        "outputId": "fd7f1ecd-23d4-4986-f983-96f4b4fb075e"
      },
      "source": [
        "print(dataset_new[0,:-1])"
      ],
      "execution_count": null,
      "outputs": [
        {
          "output_type": "stream",
          "name": "stdout",
          "text": [
            "[ 1.          1.35376718 -0.73229415 -0.87210827  0.4167009   0.03419463]\n"
          ]
        }
      ]
    },
    {
      "cell_type": "code",
      "metadata": {
        "colab": {
          "base_uri": "https://localhost:8080/"
        },
        "id": "4lv0k8tTZaBR",
        "outputId": "02ff3a7f-36f4-4fe0-cc0b-773724d599a9"
      },
      "source": [
        "weight = []\n",
        "for j in range(0,10):\n",
        "  for i in range(0,10):\n",
        "    y_hat = sum(dataset_new[i,:-1]*weight_init.T)\n",
        "    #判斷式\n",
        "    if y_hat>= 0:\n",
        "      y_hat = 1\n",
        "    else:\n",
        "      y_hat = -1\n",
        "    print(i,y_hat)\n",
        "    #更新後的weight\n",
        "    weight_init = weight_init + l_rate*(y[i]-y_hat)*dataset_new[i,:-1]\n",
        "    #print(weight_init)\n",
        "  weight.append(weight_init)\n",
        "print(i,weight)"
      ],
      "execution_count": null,
      "outputs": [
        {
          "output_type": "stream",
          "name": "stdout",
          "text": [
            "0 1\n",
            "1 1\n",
            "2 -1\n",
            "3 1\n",
            "4 -1\n",
            "5 1\n",
            "6 1\n",
            "7 1\n",
            "8 -1\n",
            "9 1\n",
            "0 1\n",
            "1 -1\n",
            "2 -1\n",
            "3 1\n",
            "4 1\n",
            "5 1\n",
            "6 -1\n",
            "7 1\n",
            "8 -1\n",
            "9 1\n",
            "0 1\n",
            "1 -1\n",
            "2 -1\n",
            "3 1\n",
            "4 1\n",
            "5 -1\n",
            "6 1\n",
            "7 1\n",
            "8 -1\n",
            "9 1\n",
            "0 1\n",
            "1 -1\n",
            "2 -1\n",
            "3 1\n",
            "4 1\n",
            "5 -1\n",
            "6 1\n",
            "7 -1\n",
            "8 1\n",
            "9 1\n",
            "0 -1\n",
            "1 -1\n",
            "2 -1\n",
            "3 1\n",
            "4 1\n",
            "5 -1\n",
            "6 -1\n",
            "7 1\n",
            "8 -1\n",
            "9 1\n",
            "0 -1\n",
            "1 -1\n",
            "2 -1\n",
            "3 1\n",
            "4 1\n",
            "5 1\n",
            "6 -1\n",
            "7 1\n",
            "8 -1\n",
            "9 1\n",
            "0 1\n",
            "1 -1\n",
            "2 -1\n",
            "3 1\n",
            "4 1\n",
            "5 -1\n",
            "6 1\n",
            "7 1\n",
            "8 -1\n",
            "9 1\n",
            "0 -1\n",
            "1 -1\n",
            "2 -1\n",
            "3 1\n",
            "4 1\n",
            "5 -1\n",
            "6 -1\n",
            "7 1\n",
            "8 -1\n",
            "9 1\n",
            "0 1\n",
            "1 -1\n",
            "2 -1\n",
            "3 1\n",
            "4 1\n",
            "5 1\n",
            "6 -1\n",
            "7 1\n",
            "8 -1\n",
            "9 1\n",
            "0 -1\n",
            "1 -1\n",
            "2 -1\n",
            "3 1\n",
            "4 1\n",
            "5 -1\n",
            "6 -1\n",
            "7 1\n",
            "8 -1\n",
            "9 1\n",
            "9 [array([0.1       , 0.37428657, 0.10546418, 0.07341512, 0.834013  ,\n",
            "       0.47218829]), array([-0.1       ,  0.26533335,  0.08806004,  0.01277635,  0.74292641,\n",
            "        0.51563922]), array([-0.3       ,  0.02355668,  0.06379446,  0.01993103,  0.84796115,\n",
            "        0.47825619]), array([-0.5       , -0.07467409,  0.06292526,  0.16117685,  1.20847486,\n",
            "        0.32629602]), array([-0.3       ,  0.02913453,  0.14226062,  0.31574751,  1.31537353,\n",
            "        0.25839849]), array([-0.3       ,  0.19093475, -0.02160235,  0.08068709,  1.30762711,\n",
            "        0.30868834]), array([-0.5       , -0.05084192, -0.04586793,  0.08784177,  1.41266186,\n",
            "        0.27130531]), array([-0.3       ,  0.0529667 ,  0.03346744,  0.24241243,  1.51956053,\n",
            "        0.20340777]), array([-0.5       , -0.05598652,  0.01606329,  0.18177366,  1.42847393,\n",
            "        0.2468587 ]), array([-0.3       ,  0.0478221 ,  0.09539866,  0.33634432,  1.5353726 ,\n",
            "        0.17896116])]\n"
          ]
        }
      ]
    },
    {
      "cell_type": "code",
      "metadata": {
        "colab": {
          "base_uri": "https://localhost:8080/"
        },
        "id": "QAA5QQNf5IOt",
        "outputId": "8e46e31c-b0c0-453a-ef08-60d85319ae7a"
      },
      "source": [
        "weight_new = [np.round(num, 2) for num in weight]\n",
        "print(weight_new)"
      ],
      "execution_count": null,
      "outputs": [
        {
          "output_type": "stream",
          "name": "stdout",
          "text": [
            "[array([0.1 , 0.37, 0.11, 0.07, 0.83, 0.47]), array([-0.1 ,  0.27,  0.09,  0.01,  0.74,  0.52]), array([-0.3 ,  0.02,  0.06,  0.02,  0.85,  0.48]), array([-0.5 , -0.07,  0.06,  0.16,  1.21,  0.33]), array([-0.3 ,  0.03,  0.14,  0.32,  1.32,  0.26]), array([-0.3 ,  0.19, -0.02,  0.08,  1.31,  0.31]), array([-0.5 , -0.05, -0.05,  0.09,  1.41,  0.27]), array([-0.3 ,  0.05,  0.03,  0.24,  1.52,  0.2 ]), array([-0.5 , -0.06,  0.02,  0.18,  1.43,  0.25]), array([-0.3 ,  0.05,  0.1 ,  0.34,  1.54,  0.18])]\n"
          ]
        }
      ]
    },
    {
      "cell_type": "code",
      "metadata": {
        "id": "zCL9AChkaul8"
      },
      "source": [],
      "execution_count": null,
      "outputs": []
    },
    {
      "cell_type": "markdown",
      "metadata": {
        "id": "gEuemqa8YCX3"
      },
      "source": [
        "**Save your weight as csv**\n",
        "\n",
        "\n",
        "Save your weights in each epoch in csv with name **student_id.csv** and should have same format as sample_submission.csv"
      ]
    },
    {
      "cell_type": "code",
      "metadata": {
        "id": "xmi-0wraYoqb"
      },
      "source": [
        "import numpy as np \n",
        "np.savetxt(\"r10521804.csv\", weight_new, delimiter =\",\",fmt ='% s')"
      ],
      "execution_count": null,
      "outputs": []
    }
  ]
}