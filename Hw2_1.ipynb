{
  "nbformat": 4,
  "nbformat_minor": 0,
  "metadata": {
    "colab": {
      "provenance": []
    },
    "kernelspec": {
      "name": "python3",
      "display_name": "Python 3"
    },
    "language_info": {
      "name": "python"
    }
  },
  "cells": [
    {
      "cell_type": "markdown",
      "metadata": {
        "id": "TZJF-lUWcxsY"
      },
      "source": [
        "### **Problem Description**\n",
        "Please modify the learning algorithm code in the class and report the bias and variance."
      ]
    },
    {
      "cell_type": "markdown",
      "metadata": {
        "id": "fboCGraigJGK"
      },
      "source": [
        "### **Student ID**\n",
        "Please fill in your student IDs below. "
      ]
    },
    {
      "cell_type": "code",
      "metadata": {
        "id": "fxCcEOQ2gNln"
      },
      "source": [
        "student_id = 'r10521804' # fill with your student ID\n",
        "\n",
        "assert student_id != 'your_student_id', 'Please fill in your student_id before you start.'"
      ],
      "execution_count": null,
      "outputs": []
    },
    {
      "cell_type": "code",
      "metadata": {
        "id": "5W2-E_-7b6zl"
      },
      "source": [
        "import numpy as np\n",
        "from scipy import stats\n",
        "def gen_sindata(n=2):\n",
        "    x = stats.uniform(-1,2) # define random variable\n",
        "    v = x.rvs((n,1)) # generate sample\n",
        "    y = np.sin(np.pi*v) # use sample for sine\n",
        "    return (v,y)"
      ],
      "execution_count": null,
      "outputs": []
    },
    {
      "cell_type": "code",
      "metadata": {
        "colab": {
          "base_uri": "https://localhost:8080/"
        },
        "id": "stabAMY0ccMS",
        "outputId": "bfa443d9-59bf-446a-a9f3-067f084c0c1c"
      },
      "source": [
        "#from sklearn.linear_model import LinearRegression\n",
        "#lr = LinearRegression(fit_intercept=False)\n",
        "X, y = gen_sindata(2)\n",
        "b = sum(y)/2\n",
        "X,y,b\n",
        "#line = plt.hlines(y=b, xmin=-1, xmax=1)\n",
        "#lr.fit(X,y)\n",
        "#lr.coef_"
      ],
      "execution_count": null,
      "outputs": [
        {
          "output_type": "execute_result",
          "data": {
            "text/plain": [
              "(array([[ 0.24557017],\n",
              "        [-0.3526903 ]]), array([[ 0.69719802],\n",
              "        [-0.8948117 ]]), array([-0.09880684]))"
            ]
          },
          "metadata": {},
          "execution_count": 12
        }
      ]
    },
    {
      "cell_type": "code",
      "metadata": {
        "colab": {
          "base_uri": "https://localhost:8080/",
          "height": 301
        },
        "id": "SXUKESQaceIu",
        "outputId": "d5591fc7-5a86-42dd-beb0-c9ed76d2337e"
      },
      "source": [
        "%matplotlib inline\n",
        "import matplotlib.pyplot as plt\n",
        "xi= np.linspace(-1,1,50)\n",
        "yi= np.sin(np.pi*xi)\n",
        "#y_pred = lr.predict(xi.reshape(-1,1))\n",
        "\n",
        "plt.plot(xi, yi,'--k',label='target')\n",
        "plt.plot(X, y, 'o')\n",
        "plt.hlines(b, xmin=-1, xmax=1, label='best fit')\n",
        "#plt.plot(b, c='k', label='best fit')\n",
        "plt.legend(loc='best')\n",
        "plt.title('$b=%3.3g$'%(b),fontsize=16)"
      ],
      "execution_count": null,
      "outputs": [
        {
          "output_type": "execute_result",
          "data": {
            "text/plain": [
              "Text(0.5, 1.0, '$b=-0.0988$')"
            ]
          },
          "metadata": {},
          "execution_count": 14
        },
        {
          "output_type": "display_data",
          "data": {
            "text/plain": [
              "<Figure size 432x288 with 1 Axes>"
            ],
            "image/png": "[encoded data removed]"
          },
          "metadata": {
            "needs_background": "light"
          }
        }
      ]
    },
    {
      "cell_type": "code",
      "metadata": {
        "id": "88LkhO9fchnL"
      },
      "source": [
        "cnt = 100000\n",
        "b_out=[] # output container\n",
        "for i in range(cnt):\n",
        "    X, y = gen_sindata(2)\n",
        "    b = sum(y)/2\n",
        "    #lr.fit(X,y)\n",
        "    #y_pred = lr.predict(xi.reshape(-1,1))\n",
        "    b_out.append(b)\n",
        "b_bar = np.mean(b_out) # approx 1.43\n",
        "b_var = np.var(b_out) # approx 0.71"
      ],
      "execution_count": null,
      "outputs": []
    },
    {
      "cell_type": "code",
      "metadata": {
        "id": "8rbxsqNxcjm-",
        "colab": {
          "base_uri": "https://localhost:8080/"
        },
        "outputId": "4942a0f0-4e6a-4d4a-da86-5a47083ec241"
      },
      "source": [
        "print (b_bar, b_var)"
      ],
      "execution_count": null,
      "outputs": [
        {
          "output_type": "stream",
          "name": "stdout",
          "text": [
            "-0.00035589045555645853 0.24782237707125238\n"
          ]
        }
      ]
    },
    {
      "cell_type": "code",
      "metadata": {
        "id": "kMaeLz7LclIU",
        "colab": {
          "base_uri": "https://localhost:8080/"
        },
        "outputId": "cbc3d826-b589-443b-c72d-394118888e61"
      },
      "source": [
        "# confirm the variance\n",
        "vsum = 0\n",
        "for i in range(cnt):\n",
        "    vsum += (b_out[i] - b_bar) ** 2\n",
        "b_var2 = vsum / cnt\n",
        "print (b_var2)"
      ],
      "execution_count": null,
      "outputs": [
        {
          "output_type": "stream",
          "name": "stdout",
          "text": [
            "[0.24782238]\n"
          ]
        }
      ]
    },
    {
      "cell_type": "code",
      "metadata": {
        "id": "B85ntaupcm_O",
        "colab": {
          "base_uri": "https://localhost:8080/",
          "height": 324
        },
        "outputId": "317e2387-bd59-4d8c-ace3-38501cad72c0"
      },
      "source": [
        "xi= np.linspace(-1,1,50)\n",
        "yi= np.sin(np.pi*xi)\n",
        "\n",
        "plt.plot(xi,(b_bar*xi-yi)**2,'--k',label='bias(x)')\n",
        "plt.plot(xi,(b_var)*(xi)**2,':k',label='var(x)')\n",
        "plt.plot(xi,((b_bar*xi-yi)**2 + b_var*(xi)**2),'-k',lw = 4, label='Error(x)')\n",
        "plt.legend(loc='best')\n",
        "plt.xlabel('x', fontsize=18)\n",
        "plt.ylabel('Error',fontsize=16)\n",
        "plt.title('$b_{bar}=%3.3g$, $b_{var}=%3.3g$'%(b_bar,b_var),fontsize=16)"
      ],
      "execution_count": null,
      "outputs": [
        {
          "output_type": "execute_result",
          "data": {
            "text/plain": [
              "Text(0.5, 1.0, '$b_{bar}=-0.000356$, $b_{var}=0.248$')"
            ]
          },
          "metadata": {},
          "execution_count": 8
        },
        {
          "output_type": "display_data",
          "data": {
            "image/png": "[encoded data removed]",
            "text/plain": [
              "<Figure size 432x288 with 1 Axes>"
            ]
          },
          "metadata": {
            "needs_background": "light"
          }
        }
      ]
    },
    {
      "cell_type": "code",
      "metadata": {
        "id": "kes0c7HXcoZa",
        "colab": {
          "base_uri": "https://localhost:8080/"
        },
        "outputId": "744d909e-c56b-46f6-9919-316dd570a74f"
      },
      "source": [
        "# compute bias and variance\n",
        "cnt = 100000\n",
        "bias = 0\n",
        "var = 0\n",
        "x = np.random.uniform(-1, 2, size = cnt)\n",
        "for i in range(cnt):\n",
        "    bias += (b_bar*x[i] - np.sin(np.pi*x[i]))**2\n",
        "    var += b_var * x[i] * x[i]\n",
        "bias = bias / cnt # approx 2.84\n",
        "var = var / cnt # approx 0.71\n",
        "print(bias, var)"
      ],
      "execution_count": null,
      "outputs": [
        {
          "output_type": "stream",
          "name": "stdout",
          "text": [
            "0.49942460063160693 0.24803233841011635\n"
          ]
        }
      ]
    },
    {
      "cell_type": "code",
      "metadata": {
        "id": "01Z_-ozxdh9f"
      },
      "source": [
        "import csv\n",
        "def output_csv(bias, var):\n",
        "  csv_file_name = student_id + '_p1.csv'\n",
        "  with open(csv_file_name, 'w', newline='') as csvfile:\n",
        "    writer = csv.writer(csvfile)\n",
        "    writer.writerow([\"bias\", \"variance\"])\n",
        "    writer.writerow([round(bias,4), round(var,4)])"
      ],
      "execution_count": null,
      "outputs": []
    },
    {
      "cell_type": "code",
      "metadata": {
        "id": "H5OSk58ouTS5"
      },
      "source": [
        "output_csv(bias, var)"
      ],
      "execution_count": null,
      "outputs": []
    },
    {
      "cell_type": "code",
      "metadata": {
        "id": "4njxH7aVPvaV",
        "colab": {
          "base_uri": "https://localhost:8080/"
        },
        "outputId": "5c4ed969-0d5d-471c-869e-c3388cc0b9d4"
      },
      "source": [
        "from sympy.solvers import solve\n",
        "from sympy import symbols\n",
        "\n",
        "\n",
        "#設定變數(將10個未知站點高程設定變數)\n",
        "#根據x陣列依序排序\n",
        "a,b,c,d,e,f,g,h,i,j = symbols(\"a b c d e f g h i j\")\n",
        "\n",
        "\n",
        "\n",
        "#權\n",
        "w1 = 0.000664086458345733\n",
        "w2 = 0.00439100530490085\n",
        "w3 = 0.000272592268383060\n",
        "w4 = 0.0000701006794489499\n",
        "w5 = 0.000142465242121978\n",
        "w6 = 0.000170393000741899\n",
        "w7 = 0.000419089158462533\n",
        "w8 = 0.0278706023673290\n",
        "w9 = 0.000334471311654913\n",
        "w10 = 0.000557825409125890\n",
        "w11 = 0.000383549453330972\n",
        "w12 = 0.000101502727076458\n",
        "\n",
        "#解聯立\n",
        "height = solve([2*w1*(-2413.37695+a)-2*w2*(-1431.385626+b-a),\n",
        "       2*w2*(-1431.385626+b-a)-2*w3*(3811.328797+c-b),\n",
        "       2*w3*(3811.328797+c-b)-2*w4*(-290.4595614+d-c),\n",
        "       2*w4*(-290.4595614+d-c)+2*w5*(-301.6661312+d-e),\n",
        "       -2*w5*(-301.6661312+d-e)-2*w6*(20.03238649+f-e)-2*w10*(14.22407699+i-e),\n",
        "       2*w6*(20.03238649+f-e)-2*w7*(-38.47413871+g-f),\n",
        "       2*w7*(-38.47413871+g-f)-2*w8*(32.70905608+h-g),\n",
        "       2*w8*(32.70905608+h-g)-2*w9*(8.12736132-h)+2*w12*(0.936864416+h-j),\n",
        "       2*w10*(14.22407699+i-e)-2*w11*(-0.873559392+j-i),\n",
        "       2*w11*(-0.873559392+j-i)-2*w12*(0.936864416+h-j)])\n",
        "height"
      ],
      "execution_count": null,
      "outputs": [
        {
          "output_type": "execute_result",
          "data": {
            "text/plain": [
              "{a: 2413.38448996370,\n",
              " b: 3844.77125629205,\n",
              " c: 33.4608280735286,\n",
              " d: 323.991817993943,\n",
              " e: 22.3608335268476,\n",
              " f: 2.34179827230461,\n",
              " g: 40.8213653190372,\n",
              " h: 8.11239086472454,\n",
              " i: 8.14165454022847,\n",
              " j: 9.02233747448904}"
            ]
          },
          "metadata": {},
          "execution_count": 1
        }
      ]
    }
  ]
}